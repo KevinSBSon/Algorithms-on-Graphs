{
  "nbformat": 4,
  "nbformat_minor": 0,
  "metadata": {
    "colab": {
      "name": "Untitled0.ipynb",
      "provenance": [],
      "authorship_tag": "ABX9TyNi2kd0yjQZZLOMnJwYIZzO",
      "include_colab_link": true
    },
    "kernelspec": {
      "name": "python3",
      "display_name": "Python 3"
    },
    "language_info": {
      "name": "python"
    }
  },
  "cells": [
    {
      "cell_type": "markdown",
      "metadata": {
        "id": "view-in-github",
        "colab_type": "text"
      },
      "source": [
        "<a href=\"https://colab.research.google.com/github/KevinSBSon/Algorithms-on-Graphs/blob/main/Shortest%20Paths.ipynb\" target=\"_parent\"><img src=\"https://colab.research.google.com/assets/colab-badge.svg\" alt=\"Open In Colab\"/></a>"
      ]
    },
    {
      "cell_type": "markdown",
      "source": [
        "# Problem Description\n",
        "**Task**<br>\n",
        "Given an directed graph with possibly negative edge weights and with 𝑛 vertices and 𝑚 edges as well as its vertex 𝑠, compute the length of shortest paths from 𝑠 to all other vertices of the graph.\n",
        "<br><br>**Input Format**<br>\n",
        "A graph is given in the standard format.\n",
        "<br><br>**Constraints**<br>\n",
        "1 ≤ 𝑛 ≤ 103, 0 ≤ 𝑚 ≤ 104, 1 ≤ 𝑠 ≤ 𝑛, edge weights are integers of absolute value at most\n",
        "109 .\n",
        "<br><br>**Output Format**<br>\n",
        "For all vertices 𝑖 from 1 to 𝑛 output the following on a separate line:<br>\n",
        "∙ “*”,ifthereisnopathfrom𝑠to𝑢;<br>\n",
        "∙ “-”, if there is a path from 𝑠 to 𝑢, but there is no shortest path from 𝑠 to 𝑢 (that is, the distance\n",
        "from 𝑠 to 𝑢 is −∞);<br>\n",
        "∙ the length of a shortest path otherwise."
      ],
      "metadata": {
        "id": "hGXCpdCfg2TO"
      }
    },
    {
      "cell_type": "code",
      "source": [
        "import queue\n",
        "\n",
        "def shortet_paths(adj, cost, s, dist, reachable, shortest):\n",
        "    global prev, VitNode\n",
        "    prev = [-1 for x in range(len(adj)+1)]\n",
        "    add = []\n",
        "    addCost = []\n",
        "    dist[s] = 0\n",
        "    result = BellmanFord(adj, cost, dist, shortest)\n",
        "\n",
        "prev = []\n",
        "Q = []\n",
        "\n",
        "def BellmanFord(adj, cost, dist, shortest):\n",
        "    global prev, Q\n",
        "\n",
        "    for i in range(len(adj)-1):\n",
        "        for u in range(len(adj)):\n",
        "            for v in range(len(adj[u])):\n",
        "                if dist[adj[u][v]] > dist[u] + cost[u][v]:\n",
        "                    dist[adj[u][v]] = dist[u] + cost[u][v]\n",
        "                    prev[adj[u][v]] = u\n",
        "\n",
        "    for u in range(len(adj)):\n",
        "        for v in range(len(adj[u])):\n",
        "            if dist[adj[u][v]] > dist[u] + cost[u][v]:\n",
        "                dist[adj[u][v]] = dist[u] + cost[u][v]\n",
        "                prev[adj[u][v]] = u\n",
        "                Q.append(adj[u][v])\n",
        "\n",
        "    while len(Q) != 0:\n",
        "        u = Q.pop(0)\n",
        "        shortest[u] = 0\n",
        "        for v in adj[u]:\n",
        "            if shortest[v] == 1:\n",
        "                Q.append(v)\n",
        "                shortest[v] = 0\n",
        "\n",
        "if __name__ == '__main__':\n",
        "    data = []\n",
        "    n, m = map(int, input().split())\n",
        "    for i in range(m+1):\n",
        "      data += map(int, input().split())\n",
        "    edges = list(zip(zip(data[0:(3 * m):3], data[1:(3 * m):3]), data[2:(3 * m):3]))\n",
        "    data = data[3 * m:]\n",
        "    adj = [[] for _ in range(n)]\n",
        "    cost = [[] for _ in range(n)]\n",
        "    for ((a, b), w) in edges:\n",
        "        adj[a - 1].append(b - 1)\n",
        "        cost[a - 1].append(w)\n",
        "    s = data[0]\n",
        "    s -= 1\n",
        "    distance = [float(\"inf\")] * n\n",
        "    reachable = [0] * n\n",
        "    shortest = [1] * n\n",
        "    shortet_paths(adj, cost, s, distance, reachable, shortest)\n",
        "    for x in range(n):\n",
        "        if distance[x] == float(\"inf\"):\n",
        "            print('*')\n",
        "        elif shortest[x] == 0:\n",
        "            print('-')\n",
        "        else:\n",
        "            print(distance[x])\n"
      ],
      "metadata": {
        "id": "UQRY3LhcdWhz"
      },
      "execution_count": null,
      "outputs": []
    }
  ]
}