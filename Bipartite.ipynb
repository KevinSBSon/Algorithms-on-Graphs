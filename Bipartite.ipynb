{
  "nbformat": 4,
  "nbformat_minor": 0,
  "metadata": {
    "colab": {
      "name": "Untitled0.ipynb",
      "provenance": [],
      "authorship_tag": "ABX9TyOLwyq5Fks9/mqVEyU52hS7",
      "include_colab_link": true
    },
    "kernelspec": {
      "name": "python3",
      "display_name": "Python 3"
    },
    "language_info": {
      "name": "python"
    }
  },
  "cells": [
    {
      "cell_type": "markdown",
      "metadata": {
        "id": "view-in-github",
        "colab_type": "text"
      },
      "source": [
        "<a href=\"https://colab.research.google.com/github/KevinSBSon/Algorithms-on-Graphs/blob/main/Bipartite.ipynb\" target=\"_parent\"><img src=\"https://colab.research.google.com/assets/colab-badge.svg\" alt=\"Open In Colab\"/></a>"
      ]
    },
    {
      "cell_type": "markdown",
      "source": [
        "# Problem Description\n",
        "**Task**<br>\n",
        "Given an undirected graph with 𝑛 vertices and 𝑚 edges, check whether it is bipartite.\n",
        "<br><br>**Input Format**<br>\n",
        "A graph is given in the standard format.\n",
        "<br><br>**Constraints**<br>\n",
        "1≤𝑛≤105 , 0≤𝑚≤105.\n",
        "<br><br>**Output Format**<br>\n",
        "Output 1 if the graph is bipartite and 0 otherwise."
      ],
      "metadata": {
        "id": "_xKd9lEUiyh6"
      }
    },
    {
      "cell_type": "code",
      "execution_count": null,
      "metadata": {
        "id": "KDZOogbmiJEQ"
      },
      "outputs": [],
      "source": [
        "import queue\n",
        "\n",
        "def bipartite(adj):\n",
        "\n",
        "    global dist, col, result\n",
        "    col = [-1 for x in range(len(adj))]\n",
        "    for i in range(len(col)):\n",
        "        if col[i] == -1:\n",
        "            BFS(adj, i)\n",
        "            if result == 0:\n",
        "                return result\n",
        "    result = 1\n",
        "\n",
        "    return result\n",
        "\n",
        "dist = []\n",
        "col = []\n",
        "\n",
        "result = -1\n",
        "def BFS(adj, S):\n",
        "    global dist, col, prev, result\n",
        "    Q = []\n",
        "    Q.append(S)\n",
        "    col[S] = 0\n",
        "    while len(Q) != 0:\n",
        "        u = Q.pop(0)\n",
        "\n",
        "        for v in adj[u]:\n",
        "            if col[v] == -1:\n",
        "                Q.append(v)\n",
        "                if col[u] == 0:\n",
        "                    col[v] = 1\n",
        "                else:\n",
        "                    col[v] = 0\n",
        "            else:\n",
        "                if col[u] == col[v]:\n",
        "                    result = 0\n",
        "                    return\n",
        "\n",
        "if __name__ == '__main__':\n",
        "    data = []\n",
        "    n, m = map(int, input().split())\n",
        "    for i in range(m):\n",
        "      data += map(int, input().split())\n",
        "    edges = list(zip(data[0:(2 * m):2], data[1:(2 * m):2]))\n",
        "    adj = [[] for _ in range(n)]\n",
        "    for (a, b) in edges:\n",
        "        adj[a - 1].append(b - 1)\n",
        "        adj[b - 1].append(a - 1)\n",
        "    print(bipartite(adj))"
      ]
    }
  ]
}